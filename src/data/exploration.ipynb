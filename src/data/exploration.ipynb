{
 "cells": [
  {
   "cell_type": "code",
   "execution_count": 2,
   "metadata": {},
   "outputs": [],
   "source": [
    "import pandas as pd"
   ]
  },
  {
   "cell_type": "markdown",
   "metadata": {},
   "source": [
    "# Tarea 1\n",
    "\n",
    "Empiezo por cargar en memoria los csv:"
   ]
  },
  {
   "cell_type": "code",
   "execution_count": 3,
   "metadata": {},
   "outputs": [
    {
     "name": "stdout",
     "output_type": "stream",
     "text": [
      "4972704\n"
     ]
    }
   ],
   "source": [
    "meas_df = pd.read_csv('../../data/raw/measurement_data.csv')\n",
    "inst_df = pd.read_csv('../../data/raw/instrument_data.csv')\n",
    "pollu_df = pd.read_csv('../../data/raw/pollutant_data.csv')\n",
    "\n",
    "print(621588*8)"
   ]
  },
  {
   "cell_type": "markdown",
   "metadata": {},
   "source": [
    "# Combinando los datasets:\n",
    "\n",
    "Aunque esto lleva más tiempo del esperado..."
   ]
  },
  {
   "cell_type": "code",
   "execution_count": 5,
   "metadata": {},
   "outputs": [],
   "source": [
    "merged_normal = pd.merge(\n",
    "    meas_df[['Measurement date', 'SO2']],\n",
    "    inst_df[['Measurement date', 'Item code']][inst_df['Item code'] == 0],\n",
    "    how='inner',\n",
    "    on='Measurement date')"
   ]
  },
  {
   "cell_type": "code",
   "execution_count": 7,
   "metadata": {},
   "outputs": [
    {
     "data": {
      "text/plain": [
       "np.float64(-0.0006440475285818181)"
      ]
     },
     "execution_count": 7,
     "metadata": {},
     "output_type": "execute_result"
    }
   ],
   "source": [
    "merged_normal['SO2'].mean()"
   ]
  }
 ],
 "metadata": {
  "kernelspec": {
   "display_name": "venv",
   "language": "python",
   "name": "python3"
  },
  "language_info": {
   "codemirror_mode": {
    "name": "ipython",
    "version": 3
   },
   "file_extension": ".py",
   "mimetype": "text/x-python",
   "name": "python",
   "nbconvert_exporter": "python",
   "pygments_lexer": "ipython3",
   "version": "3.11.2"
  }
 },
 "nbformat": 4,
 "nbformat_minor": 2
}
